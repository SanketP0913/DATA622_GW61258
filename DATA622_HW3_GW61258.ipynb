{
 "cells": [
  {
   "cell_type": "code",
   "execution_count": 26,
   "id": "901e37f3-8cf0-44ae-9519-255516ff94b6",
   "metadata": {},
   "outputs": [],
   "source": [
    "import requests\n",
    "import nltk\n",
    "import numpy as np\n",
    "import pandas as pd\n",
    "from sentence_transformers import SentenceTransformer\n",
    "from sklearn.feature_extraction.text import TfidfVectorizer\n",
    "from sklearn.metrics.pairwise import cosine_similarity\n",
    "from bs4 import BeautifulSoup\n",
    "import warnings\n",
    "import requests\n",
    "from nltk.tokenize import sent_tokenize\n",
    "from sentence_transformers import SentenceTransformer\n",
    "from sklearn.feature_extraction.text import TfidfVectorizer\n",
    "from sklearn.metrics.pairwise import cosine_similarity"
   ]
  },
  {
   "cell_type": "code",
   "execution_count": 27,
   "id": "32e0761b-bb42-4632-8ea2-fa0734c355e2",
   "metadata": {},
   "outputs": [
    {
     "name": "stdout",
     "output_type": "stream",
     "text": [
      "First 700 chars:\n",
      " Title: The ‘miracle’ of the sole passenger who survived the Air India flight\n",
      "\n",
      "URL Source: http://www.washingtonpost.com/world/2025/06/13/air-india-plane-crash-survivor-vishwash-kumar-ramesh/\n",
      "\n",
      "Published Time: 2025-06-13T12:52:23.989Z\n",
      "\n",
      "Markdown Content:\n",
      "Air India crash: Sole survivor in seat 11A says it’s a ‘miracle’ he survived - The Washington Post\n",
      "\n",
      "===============\n",
      "\n",
      "[Accessibility statement](http://www.washingtonpost.com/accessibility/)[Skip to main content](http://www.washingtonpost.com/world/2025/06/13/air-india-plane-crash-survivor-vishwash-kumar-ramesh/#main-content)\n",
      "\n",
      "[Democracy Dies in Darkness](https://www.washingtonpost.com/)\n",
      "\n",
      "[Subscribe](https://subscribe.washingtonpost.com/acquisiti \n",
      "\n"
     ]
    }
   ],
   "source": [
    "URL = \"https://www.washingtonpost.com/world/2025/06/13/air-india-plane-crash-survivor-vishwash-kumar-ramesh/\"\n",
    "UA = {\"User-Agent\": \"Mozilla/5.0\"}\n",
    "\n",
    "def fetch(url):\n",
    "    try:\n",
    "        r = requests.get(url, headers=UA, timeout=25)\n",
    "        r.raise_for_status()\n",
    "        return r.text\n",
    "    except Exception:\n",
    "        mirror = \"https://r.jina.ai/http://\" + url.replace(\"https://\", \"\")\n",
    "        r = requests.get(mirror, headers=UA, timeout=25)\n",
    "        r.raise_for_status()\n",
    "        return r.text\n",
    "\n",
    "raw_text = fetch(URL)\n",
    "first_700 = raw_text[:700]\n",
    "print(\"First 700 chars:\\n\", first_700, \"\\n\")"
   ]
  },
  {
   "cell_type": "code",
   "execution_count": 28,
   "id": "90c4ce54-776e-4fa4-afe3-5b3d122a658c",
   "metadata": {},
   "outputs": [
    {
     "name": "stdout",
     "output_type": "stream",
     "text": [
      "Total sentences extracted: 1\n",
      "\n",
      "Sentences:\n",
      "1. Title: The ‘miracle’ of the sole passenger who survived the Air India flight\n",
      "\n",
      "URL Source: http://www.washingtonpost.com/world/2025/06/13/air-india-plane-crash-survivor-vishwash-kumar-ramesh/\n",
      "\n",
      "Published Time: 2025-06-13T12:52:23.989Z\n",
      "\n",
      "Markdown Content:\n",
      "Air India crash: Sole survivor in seat 11A says it’s a ‘miracle’ he survived - The Washington Post\n",
      "\n",
      "===============\n",
      "\n",
      "[Accessibility statement](http://www.washingtonpost.com/accessibility/)[Skip to main content](http://www.washingtonpost.com/world/2025/06/13/air-india-plane-crash-survivor-vishwash-kumar-ramesh/#main-content)\n",
      "\n",
      "[Democracy Dies in Darkness](https://www.washingtonpost.com/)\n",
      "\n",
      "[Subscribe](https://subscribe.washingtonpost.com/acquisiti\n"
     ]
    }
   ],
   "source": [
    "#Spliting the text into sentences\n",
    "nltk.download('punkt', quiet=True)\n",
    "sentences = sent_tokenize(first_700)\n",
    "print(f\"Total sentences extracted: {len(sentences)}\")\n",
    "print(\"\\nSentences:\")\n",
    "for i, sentence in enumerate(sentences, 1):\n",
    "    print(f\"{i}. {sentence}\")"
   ]
  },
  {
   "cell_type": "code",
   "execution_count": 29,
   "id": "4ad4b160-89f8-46ac-8047-226e9d134805",
   "metadata": {},
   "outputs": [
    {
     "name": "stdout",
     "output_type": "stream",
     "text": [
      "\n",
      "Loading sentence transformer model...\n",
      "Model loaded successfully\n",
      "\n",
      "TF-IDF matrix shape: (1, 47)\n",
      "Feature names (first 10): ['06', '11a', '13', '13t12', '2025', '23', '52', '989z', 'accessibility', 'acquisiti']\n"
     ]
    }
   ],
   "source": [
    "#looading the pre-trained embedding model and apply TF-IDF\n",
    "print(\"\\nLoading sentence transformer model...\")\n",
    "model = SentenceTransformer('all-MiniLM-L6-v2')\n",
    "print(\"Model loaded successfully\")\n",
    "\n",
    "# TF-IDF for first 10 sentences\n",
    "first_ten_sentences = sentences[:10] if len(sentences) >= 10 else sentences\n",
    "tfidf_vectorizer = TfidfVectorizer(max_features=1000, stop_words='english')\n",
    "tfidf_matrix = tfidf_vectorizer.fit_transform(first_ten_sentences)\n",
    "\n",
    "print(f\"\\nTF-IDF matrix shape: {tfidf_matrix.shape}\")\n",
    "print(f\"Feature names (first 10): {list(tfidf_vectorizer.get_feature_names_out())[:10]}\")"
   ]
  },
  {
   "cell_type": "code",
   "execution_count": 30,
   "id": "dddc617a-4d15-4855-8543-61f5aeae732e",
   "metadata": {},
   "outputs": [
    {
     "name": "stdout",
     "output_type": "stream",
     "text": [
      "\n",
      "Generated embeddings for 1 sentences\n",
      "Embedding shape for first sentence: (384,)\n",
      "First sentence: Title: The ‘miracle’ of the sole passenger who survived the Air India flight\n",
      "\n",
      "URL Source: http://www.washingtonpost.com/world/2025/06/13/air-india-plane-crash-survivor-vishwash-kumar-ramesh/\n",
      "\n",
      "Published Time: 2025-06-13T12:52:23.989Z\n",
      "\n",
      "Markdown Content:\n",
      "Air India crash: Sole survivor in seat 11A says it’s a ‘miracle’ he survived - The Washington Post\n",
      "\n",
      "===============\n",
      "\n",
      "[Accessibility statement](http://www.washingtonpost.com/accessibility/)[Skip to main content](http://www.washingtonpost.com/world/2025/06/13/air-india-plane-crash-survivor-vishwash-kumar-ramesh/#main-content)\n",
      "\n",
      "[Democracy Dies in Darkness](https://www.washingtonpost.com/)\n",
      "\n",
      "[Subscribe](https://subscribe.washingtonpost.com/acquisiti\n",
      "First 10 embedding values: [-0.02481343  0.02235181 -0.0053752   0.01985435  0.0802741   0.02732606\n",
      "  0.02073626  0.03164691 -0.03613216  0.0383233 ]\n"
     ]
    }
   ],
   "source": [
    "#generating embeddings for each sentence\n",
    "embeddings = model.encode(sentences)\n",
    "print(f\"\\nGenerated embeddings for {len(embeddings)} sentences\")\n",
    "print(f\"Embedding shape for first sentence: {embeddings[0].shape}\")\n",
    "print(f\"First sentence: {sentences[0]}\")\n",
    "print(f\"First 10 embedding values: {embeddings[0][:10]}\")"
   ]
  },
  {
   "cell_type": "code",
   "execution_count": 31,
   "id": "e00b2e65-d88a-49df-bed5-6425c2a39230",
   "metadata": {},
   "outputs": [
    {
     "name": "stdout",
     "output_type": "stream",
     "text": [
      "Need at least 2 sentences for similarity comparison\n"
     ]
    }
   ],
   "source": [
    "#Computing the cosine similarity between first and second sentences\n",
    "if len(sentences) >= 2:\n",
    "    similarity_score = cosine_similarity([embeddings[0]], [embeddings[1]])[0][0]\n",
    "    print(f\"\\nCosine similarity between first and second sentences: {similarity_score:.6f}\")\n",
    "    \n",
    "    print(f\"\\nFirst sentence: {sentences[0]}\")\n",
    "    print(f\"Second sentence: {sentences[1]}\")\n",
    "    \n",
    "    print(f\"\\nSimilarity analysis:\")\n",
    "    if similarity_score > 0.7:\n",
    "        print(\"High similarity - sentences are closely related\")\n",
    "    elif similarity_score > 0.4:\n",
    "        print(\"Moderate similarity - some common themes\")\n",
    "    else:\n",
    "        print(\"Low similarity - different content\")\n",
    "else:\n",
    "    print(\"Need at least 2 sentences for similarity comparison\")"
   ]
  },
  {
   "cell_type": "code",
   "execution_count": null,
   "id": "32fd87ef-0fd4-4f11-aaed-cfaff4ff036c",
   "metadata": {},
   "outputs": [],
   "source": []
  },
  {
   "cell_type": "code",
   "execution_count": null,
   "id": "c46daf66-b5e6-4641-ae48-c9d5f17d3e1c",
   "metadata": {},
   "outputs": [],
   "source": []
  },
  {
   "cell_type": "code",
   "execution_count": null,
   "id": "6a9c919b-c2ee-453a-8e5e-edbf11883e6a",
   "metadata": {},
   "outputs": [],
   "source": []
  }
 ],
 "metadata": {
  "kernelspec": {
   "display_name": "Python 3 (ipykernel)",
   "language": "python",
   "name": "python3"
  },
  "language_info": {
   "codemirror_mode": {
    "name": "ipython",
    "version": 3
   },
   "file_extension": ".py",
   "mimetype": "text/x-python",
   "name": "python",
   "nbconvert_exporter": "python",
   "pygments_lexer": "ipython3",
   "version": "3.9.6"
  }
 },
 "nbformat": 4,
 "nbformat_minor": 5
}
